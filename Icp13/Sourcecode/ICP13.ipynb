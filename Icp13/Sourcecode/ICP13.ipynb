{
 "cells": [
  {
   "cell_type": "code",
   "execution_count": 20,
   "metadata": {},
   "outputs": [
    {
     "name": "stdout",
     "output_type": "stream",
     "text": [
      "Defaulting to user installation because normal site-packages is not writeable\n",
      "Requirement already satisfied: pyspark in d:\\umkc\\pb\\project\\spark-2.4.5-bin-hadoop2.7\\python (2.4.5)\n",
      "Requirement already satisfied: py4j==0.10.7 in c:\\users\\roshini varada\\appdata\\roaming\\python\\python37\\site-packages (from pyspark) (0.10.7)\n",
      "Note: you may need to restart the kernel to use updated packages.\n"
     ]
    }
   ],
   "source": [
    "pip install pyspark\n"
   ]
  },
  {
   "cell_type": "code",
   "execution_count": 21,
   "metadata": {},
   "outputs": [
    {
     "name": "stdout",
     "output_type": "stream",
     "text": [
      "Defaulting to user installation because normal site-packages is not writeable\n",
      "Requirement already satisfied: graphframes in c:\\users\\roshini varada\\appdata\\roaming\\python\\python37\\site-packages (0.6)\n",
      "Requirement already satisfied: nose in d:\\d\\softwares\\anaconda\\lib\\site-packages (from graphframes) (1.3.7)\n",
      "Requirement already satisfied: numpy in d:\\d\\softwares\\anaconda\\lib\\site-packages (from graphframes) (1.18.1)\n",
      "Note: you may need to restart the kernel to use updated packages.\n"
     ]
    }
   ],
   "source": [
    "pip install graphframes"
   ]
  },
  {
   "cell_type": "code",
   "execution_count": 22,
   "metadata": {},
   "outputs": [
    {
     "name": "stdout",
     "output_type": "stream",
     "text": [
      "Defaulting to user installation because normal site-packages is not writeable\n",
      "Requirement already satisfied: findspark in c:\\users\\roshini varada\\appdata\\roaming\\python\\python37\\site-packages (1.4.2)\n",
      "Note: you may need to restart the kernel to use updated packages.\n"
     ]
    }
   ],
   "source": [
    "pip install findspark\n"
   ]
  },
  {
   "cell_type": "code",
   "execution_count": 23,
   "metadata": {},
   "outputs": [],
   "source": [
    "import findspark\n",
    "findspark.init()"
   ]
  },
  {
   "cell_type": "code",
   "execution_count": 26,
   "metadata": {},
   "outputs": [],
   "source": [
    "from pyspark import SparkContext,SQLContext\n",
    "from graphframes import *\n",
    "import pyspark.sql.functions as f\n",
    "\n",
    "sc = SparkContext.getOrCreate()\n",
    "sc.addPyFile('D:/UMKC/PB/Project/spark-2.4.5-bin-hadoop2.7/jars/graphframes_graphframes-0.7.0-spark2.4-s_2.11.jar')\n",
    "sqlcontext=SQLContext(sc)"
   ]
  },
  {
   "cell_type": "code",
   "execution_count": 27,
   "metadata": {},
   "outputs": [],
   "source": [
    "station_data_df= sqlcontext.read.format(\"csv\").option(\"header\", \"true\").csv(r'station_data.csv')\n",
    "trips_df= sqlcontext.read.format(\"csv\").option(\"header\", \"true\").csv(r'trip_data.csv')\n"
   ]
  },
  {
   "cell_type": "code",
   "execution_count": 28,
   "metadata": {},
   "outputs": [
    {
     "name": "stdout",
     "output_type": "stream",
     "text": [
      "+----------+--------------------+---------+-----------+---------+------------+------------+\n",
      "|station_id|                name|      lat|       long|dockcount|    landmark|installation|\n",
      "+----------+--------------------+---------+-----------+---------+------------+------------+\n",
      "|         2|San Jose Diridon ...|37.329732|-121.901782|       27|    San Jose|    8/6/2013|\n",
      "|         3|San Jose Civic Ce...|37.330698|-121.888979|       15|    San Jose|    8/5/2013|\n",
      "|         4|Santa Clara at Al...|37.333988|-121.894902|       11|    San Jose|    8/6/2013|\n",
      "|         5|    Adobe on Almaden|37.331415|  -121.8932|       19|    San Jose|    8/5/2013|\n",
      "|         6|    San Pedro Square|37.336721|-121.894074|       15|    San Jose|    8/7/2013|\n",
      "|         7|Paseo de San Antonio|37.333798|-121.886943|       15|    San Jose|    8/7/2013|\n",
      "|         8| San Salvador at 1st|37.330165|-121.885831|       15|    San Jose|    8/5/2013|\n",
      "|         9|           Japantown|37.348742|-121.894715|       15|    San Jose|    8/5/2013|\n",
      "|        10|  San Jose City Hall|37.337391|-121.886995|       15|    San Jose|    8/6/2013|\n",
      "|        11|         MLK Library|37.335885| -121.88566|       19|    San Jose|    8/6/2013|\n",
      "|        12|SJSU 4th at San C...|37.332808|-121.883891|       19|    San Jose|    8/7/2013|\n",
      "|        13|       St James Park|37.339301|-121.889937|       15|    San Jose|    8/6/2013|\n",
      "|        14|Arena Green / SAP...|37.332692|-121.900084|       19|    San Jose|    8/5/2013|\n",
      "|        16|SJSU - San Salvad...|37.333955|-121.877349|       15|    San Jose|    8/7/2013|\n",
      "|        21|   Franklin at Maple|37.481758|-122.226904|       15|Redwood City|   8/12/2013|\n",
      "|        22|Redwood City Calt...|37.486078|-122.232089|       25|Redwood City|   8/15/2013|\n",
      "|        23|San Mateo County ...|37.487616|-122.229951|       15|Redwood City|   8/15/2013|\n",
      "|        24|Redwood City Publ...|37.484219|-122.227424|       15|Redwood City|   8/12/2013|\n",
      "|        25|Stanford in Redwo...| 37.48537|-122.203288|       15|Redwood City|   8/12/2013|\n",
      "|        26|Redwood City Medi...|37.487682|-122.223492|       15|Redwood City|   8/12/2013|\n",
      "+----------+--------------------+---------+-----------+---------+------------+------------+\n",
      "only showing top 20 rows\n",
      "\n"
     ]
    }
   ],
   "source": [
    "station_data_df.show()"
   ]
  },
  {
   "cell_type": "code",
   "execution_count": 29,
   "metadata": {},
   "outputs": [
    {
     "name": "stdout",
     "output_type": "stream",
     "text": [
      "+--------------------+\n",
      "|                  id|\n",
      "+--------------------+\n",
      "|       2nd at Folsom|\n",
      "|California Ave Ca...|\n",
      "|Washington at Kea...|\n",
      "|Powell at Post (U...|\n",
      "| Golden Gate at Polk|\n",
      "|Yerba Buena Cente...|\n",
      "|   Market at Sansome|\n",
      "|         MLK Library|\n",
      "|     Spear at Folsom|\n",
      "|           Japantown|\n",
      "|Commercial at Mon...|\n",
      "|Paseo de San Antonio|\n",
      "| San Salvador at 1st|\n",
      "|Rengstorff Avenue...|\n",
      "|     Townsend at 7th|\n",
      "|Civic Center BART...|\n",
      "|         Ryland Park|\n",
      "|San Jose Diridon ...|\n",
      "|San Jose Civic Ce...|\n",
      "|     Post at Kearney|\n",
      "+--------------------+\n",
      "only showing top 20 rows\n",
      "\n"
     ]
    }
   ],
   "source": [
    "station_data_vertices=station_data_df.withColumnRenamed(\"name\",\"id\").select(\"id\").distinct()\n",
    "station_data_vertices.show()"
   ]
  },
  {
   "cell_type": "code",
   "execution_count": 30,
   "metadata": {},
   "outputs": [],
   "source": [
    "trip_edges=trips_df.withColumnRenamed(\"Start Station\",\"src\")\\\n",
    ".withColumnRenamed(\"End Station\",\"dst\")\\\n",
    ".select(\"src\",\"dst\")"
   ]
  },
  {
   "cell_type": "code",
   "execution_count": 31,
   "metadata": {},
   "outputs": [
    {
     "name": "stdout",
     "output_type": "stream",
     "text": [
      "+--------------------+--------------------+\n",
      "|                 src|                 dst|\n",
      "+--------------------+--------------------+\n",
      "|Harry Bridges Pla...|San Francisco Cal...|\n",
      "|San Antonio Shopp...|Mountain View Cit...|\n",
      "|      Post at Kearny|   2nd at South Park|\n",
      "|  San Jose City Hall| San Salvador at 1st|\n",
      "|Embarcadero at Fo...|Embarcadero at Sa...|\n",
      "|Yerba Buena Cente...|San Francisco Cal...|\n",
      "|Embarcadero at Fo...|Embarcadero at Sa...|\n",
      "|Embarcadero at Sa...|   Steuart at Market|\n",
      "|     Beale at Market|Temporary Transba...|\n",
      "|      Post at Kearny|South Van Ness at...|\n",
      "|Embarcadero at Sa...|   Market at Sansome|\n",
      "|      Market at 10th|San Francisco Cal...|\n",
      "|       Market at 4th|Grant Avenue at C...|\n",
      "|   Market at Sansome|Broadway St at Ba...|\n",
      "|Temporary Transba...|San Francisco Cal...|\n",
      "|San Francisco Cal...|     Townsend at 7th|\n",
      "|University and Em...|Cowper at University|\n",
      "|     Spear at Folsom|San Francisco Cal...|\n",
      "|Temporary Transba...|Grant Avenue at C...|\n",
      "|San Francisco Cal...|Broadway St at Ba...|\n",
      "+--------------------+--------------------+\n",
      "only showing top 20 rows\n",
      "\n"
     ]
    }
   ],
   "source": [
    "trip_edges.show()"
   ]
  },
  {
   "cell_type": "code",
   "execution_count": 32,
   "metadata": {},
   "outputs": [
    {
     "data": {
      "text/plain": [
       "GraphFrame(v:[id: string], e:[src: string, dst: string])"
      ]
     },
     "execution_count": 32,
     "metadata": {},
     "output_type": "execute_result"
    }
   ],
   "source": [
    "g=GraphFrame(station_data_vertices,trip_edges)\n",
    "g"
   ]
  },
  {
   "cell_type": "code",
   "execution_count": 33,
   "metadata": {},
   "outputs": [
    {
     "name": "stdout",
     "output_type": "stream",
     "text": [
      "+-----+--------------------+\n",
      "|count|                  id|\n",
      "+-----+--------------------+\n",
      "|  496|       2nd at Folsom|\n",
      "|   23|California Ave Ca...|\n",
      "|    0|Washington at Kea...|\n",
      "|  496|Powell at Post (U...|\n",
      "|  496| Golden Gate at Polk|\n",
      "|  496|Yerba Buena Cente...|\n",
      "|  496|   Market at Sansome|\n",
      "|   90|         MLK Library|\n",
      "|  496|     Spear at Folsom|\n",
      "|   77|           Japantown|\n",
      "|  496|Commercial at Mon...|\n",
      "|   81|Paseo de San Antonio|\n",
      "|   23|Rengstorff Avenue...|\n",
      "|   61| San Salvador at 1st|\n",
      "|  496|     Townsend at 7th|\n",
      "|  496|Civic Center BART...|\n",
      "|   41|         Ryland Park|\n",
      "|   90|San Jose Diridon ...|\n",
      "|   63|San Jose Civic Ce...|\n",
      "|    0|     Post at Kearney|\n",
      "+-----+--------------------+\n",
      "only showing top 20 rows\n",
      "\n"
     ]
    }
   ],
   "source": [
    "g.triangleCount().show()"
   ]
  },
  {
   "cell_type": "code",
   "execution_count": 34,
   "metadata": {},
   "outputs": [
    {
     "name": "stdout",
     "output_type": "stream",
     "text": [
      "+--------------------+--------------------+\n",
      "|                  id|           distances|\n",
      "+--------------------+--------------------+\n",
      "|       2nd at Folsom|[2nd at Folsom -> 0]|\n",
      "|      Market at 10th|[2nd at Folsom -> 1]|\n",
      "|California Ave Ca...|                  []|\n",
      "|Washington at Kea...|                  []|\n",
      "|Redwood City Publ...|                  []|\n",
      "|Powell at Post (U...|[2nd at Folsom -> 1]|\n",
      "| Golden Gate at Polk|[2nd at Folsom -> 2]|\n",
      "|    Adobe on Almaden|    [Japantown -> 2]|\n",
      "|Broadway St at Ba...|[2nd at Folsom -> 1]|\n",
      "|Yerba Buena Cente...|[2nd at Folsom -> 1]|\n",
      "|     Beale at Market|[2nd at Folsom -> 1]|\n",
      "|   Market at Sansome|[2nd at Folsom -> 1]|\n",
      "|         MLK Library|    [Japantown -> 1]|\n",
      "|     Spear at Folsom|[2nd at Folsom -> 1]|\n",
      "|       5th at Howard|[2nd at Folsom -> 1]|\n",
      "|           Japantown|    [Japantown -> 0]|\n",
      "|Commercial at Mon...|[2nd at Folsom -> 1]|\n",
      "|    San Pedro Square|    [Japantown -> 1]|\n",
      "|Paseo de San Antonio|    [Japantown -> 1]|\n",
      "|Redwood City Medi...|                  []|\n",
      "+--------------------+--------------------+\n",
      "only showing top 20 rows\n",
      "\n"
     ]
    }
   ],
   "source": [
    "g.shortestPaths(landmarks=[\"2nd at Folsom\", \"Japantown\"]).show()"
   ]
  },
  {
   "cell_type": "code",
   "execution_count": 35,
   "metadata": {},
   "outputs": [
    {
     "name": "stdout",
     "output_type": "stream",
     "text": [
      "+--------------------+-------------------+\n",
      "|                  id|           pagerank|\n",
      "+--------------------+-------------------+\n",
      "|       2nd at Folsom| 0.6019976457886556|\n",
      "|      Market at 10th|  1.052787200094611|\n",
      "|California Ave Ca...| 0.9108234167101502|\n",
      "|Washington at Kea...| 0.1688962693649758|\n",
      "|Redwood City Publ...| 0.3772310498004255|\n",
      "|Powell at Post (U...| 0.5155331272749033|\n",
      "| Golden Gate at Polk|0.46210834153699853|\n",
      "|    Adobe on Almaden| 0.5363219791463251|\n",
      "|Broadway St at Ba...| 0.6542773822104675|\n",
      "|Yerba Buena Cente...|    0.6446074415843|\n",
      "|     Beale at Market| 0.7386610420274149|\n",
      "|   Market at Sansome| 1.3054243296675345|\n",
      "|         MLK Library| 0.7773824929442179|\n",
      "|     Spear at Folsom| 0.6982859901236311|\n",
      "|       5th at Howard| 0.8188175867235038|\n",
      "|           Japantown| 0.9592388779037915|\n",
      "|Commercial at Mon...| 0.6637610436731323|\n",
      "|    San Pedro Square| 1.8004572705485629|\n",
      "|Paseo de San Antonio| 1.2407143489672836|\n",
      "|Redwood City Medi...| 0.5246180540767911|\n",
      "+--------------------+-------------------+\n",
      "only showing top 20 rows\n",
      "\n",
      "+-------------+--------------------+--------------------+\n",
      "|          src|                 dst|              weight|\n",
      "+-------------+--------------------+--------------------+\n",
      "|2nd at Folsom|San Francisco Cal...|9.025270758122744E-4|\n",
      "|2nd at Folsom|San Francisco Cal...|9.025270758122744E-4|\n",
      "|2nd at Folsom|San Francisco Cal...|9.025270758122744E-4|\n",
      "|2nd at Folsom|San Francisco Cal...|9.025270758122744E-4|\n",
      "|2nd at Folsom|San Francisco Cal...|9.025270758122744E-4|\n",
      "|2nd at Folsom|San Francisco Cal...|9.025270758122744E-4|\n",
      "|2nd at Folsom|San Francisco Cal...|9.025270758122744E-4|\n",
      "|2nd at Folsom|San Francisco Cal...|9.025270758122744E-4|\n",
      "|2nd at Folsom|San Francisco Cal...|9.025270758122744E-4|\n",
      "|2nd at Folsom|San Francisco Cal...|9.025270758122744E-4|\n",
      "|2nd at Folsom|San Francisco Cal...|9.025270758122744E-4|\n",
      "|2nd at Folsom|San Francisco Cal...|9.025270758122744E-4|\n",
      "|2nd at Folsom|San Francisco Cal...|9.025270758122744E-4|\n",
      "|2nd at Folsom|San Francisco Cal...|9.025270758122744E-4|\n",
      "|2nd at Folsom|San Francisco Cal...|9.025270758122744E-4|\n",
      "|2nd at Folsom|San Francisco Cal...|9.025270758122744E-4|\n",
      "|2nd at Folsom|San Francisco Cal...|9.025270758122744E-4|\n",
      "|2nd at Folsom|San Francisco Cal...|9.025270758122744E-4|\n",
      "|2nd at Folsom|San Francisco Cal...|9.025270758122744E-4|\n",
      "|2nd at Folsom|San Francisco Cal...|9.025270758122744E-4|\n",
      "+-------------+--------------------+--------------------+\n",
      "only showing top 20 rows\n",
      "\n"
     ]
    }
   ],
   "source": [
    "result = g.pageRank(resetProbability=0.15, tol=0.01)\n",
    "result.vertices.show()\n",
    "result.edges.show()"
   ]
  },
  {
   "cell_type": "code",
   "execution_count": 15,
   "metadata": {},
   "outputs": [],
   "source": [
    "g.vertices.write.parquet('vertices')\n",
    "g.edges.write.parquet('edges')"
   ]
  },
  {
   "cell_type": "code",
   "execution_count": 16,
   "metadata": {},
   "outputs": [
    {
     "name": "stdout",
     "output_type": "stream",
     "text": [
      "+--------------------+-------------+\n",
      "|                  id|        label|\n",
      "+--------------------+-------------+\n",
      "|San Jose Diridon ...|1365799600128|\n",
      "|Embarcadero at Va...|1657857376256|\n",
      "|    San Pedro Square| 292057776128|\n",
      "|Arena Green / SAP...|1365799600128|\n",
      "|San Francisco Cal...|1657857376256|\n",
      "|Washington at Kea...|  17179869184|\n",
      "|San Francisco Cal...|1657857376256|\n",
      "|   Steuart at Market|1657857376256|\n",
      "|Broadway St at Ba...|1657857376256|\n",
      "|         Ryland Park| 292057776128|\n",
      "|   Market at Sansome|1657857376256|\n",
      "|    Davis at Jackson|1657857376256|\n",
      "|San Mateo County ...| 730144440320|\n",
      "|Redwood City Calt...|1151051235328|\n",
      "|         MLK Library| 292057776128|\n",
      "|   Franklin at Maple| 730144440320|\n",
      "|Mountain View Cal...| 463856467969|\n",
      "|Grant Avenue at C...|1657857376256|\n",
      "| Golden Gate at Polk|1657857376256|\n",
      "|San Antonio Shopp...| 661424963584|\n",
      "+--------------------+-------------+\n",
      "only showing top 20 rows\n",
      "\n"
     ]
    }
   ],
   "source": [
    "result = g.labelPropagation(maxIter=5)\n",
    "result.select(\"id\", \"label\").show()"
   ]
  },
  {
   "cell_type": "code",
   "execution_count": 17,
   "metadata": {},
   "outputs": [
    {
     "name": "stdout",
     "output_type": "stream",
     "text": [
      "+-----------+--------------------+-------------+\n",
      "|       from|                  e0|           to|\n",
      "+-----------+--------------------+-------------+\n",
      "|[Japantown]|[Japantown, MLK L...|[MLK Library]|\n",
      "|[Japantown]|[Japantown, MLK L...|[MLK Library]|\n",
      "|[Japantown]|[Japantown, MLK L...|[MLK Library]|\n",
      "|[Japantown]|[Japantown, MLK L...|[MLK Library]|\n",
      "|[Japantown]|[Japantown, MLK L...|[MLK Library]|\n",
      "|[Japantown]|[Japantown, MLK L...|[MLK Library]|\n",
      "|[Japantown]|[Japantown, MLK L...|[MLK Library]|\n",
      "+-----------+--------------------+-------------+\n",
      "\n"
     ]
    }
   ],
   "source": [
    "paths = g.bfs(\"id = 'Japantown'\", \"id = 'MLK Library'\")\n",
    "paths.show()"
   ]
  }
 ],
 "metadata": {
  "kernelspec": {
   "display_name": "Python 3",
   "language": "python",
   "name": "python3"
  },
  "language_info": {
   "codemirror_mode": {
    "name": "ipython",
    "version": 3
   },
   "file_extension": ".py",
   "mimetype": "text/x-python",
   "name": "python",
   "nbconvert_exporter": "python",
   "pygments_lexer": "ipython3",
   "version": "3.7.6"
  }
 },
 "nbformat": 4,
 "nbformat_minor": 4
}
